{
 "cells": [
  {
   "cell_type": "code",
   "execution_count": 0,
   "metadata": {
    "collapsed": true
   },
   "outputs": [],
   "source": [
    "import numpy as np  # The basis for typed, high speed array data types.\n",
    "import pandas as pd  # tabular data on steroids\n",
    "import matplotlib.pyplot as plt  # the plots work-horse\n",
    "import seaborn as sns  # nicer statistical plots\n",
    "import sklearn  # machine learning. Pure awesome.\n",
    "import itertools  # included in Python's stdlib.\n",
    "from collections import defaultdict  # stdlib; Like a dict.\n",
    "from pathlib import Path  # Nice OOP path handling"
   ]
  },
  {
   "cell_type": "code",
   "execution_count": 0,
   "metadata": {
    "collapsed": true
   },
   "outputs": [],
   "source": [
    "import sys; sys.path.insert(0, \"./nflgame\")\n",
    "import nflgame  # load NFL statistics"
   ]
  },
  {
   "cell_type": "code",
   "execution_count": 0,
   "metadata": {
    "collapsed": true
   },
   "outputs": [],
   "source": [
    "%matplotlib inline\n",
    "#%config InlineBackend.figure_format='svg'\n",
    "%config InlineBackend.figure_format='retina'\n",
    "sns.set()"
   ]
  },
  {
   "cell_type": "code",
   "execution_count": 0,
   "metadata": {
    "collapsed": true
   },
   "outputs": [],
   "source": [
    "games = list(itertools.chain(*(nflgame.games(year)\n",
    "                               for year in [2009, 2010, 2011, 2012, 2013, 2014])))"
   ]
  },
  {
   "cell_type": "code",
   "execution_count": 0,
   "metadata": {
    "collapsed": false
   },
   "outputs": [],
   "source": [
    "some_game = games[0]\n",
    "print(some_game)\n",
    "some_game.data"
   ]
  },
  {
   "cell_type": "code",
   "execution_count": 0,
   "metadata": {
    "collapsed": true
   },
   "outputs": [],
   "source": [
    "some_drive = list(some_game.drives)[3]"
   ]
  },
  {
   "cell_type": "code",
   "execution_count": 0,
   "metadata": {
    "collapsed": false
   },
   "outputs": [],
   "source": [
    "print(type(some_drive))\n",
    "print(str(some_drive.drive_num))\n",
    "print(str(some_drive.field_start))\n",
    "print(str(some_drive.field_end))\n",
    "print(str(some_drive.first_downs))\n",
    "print(str(some_drive.game))\n",
    "print(str(some_drive.home))\n",
    "print(str(some_drive.penalty_yds))\n",
    "print(str(some_drive.play_cnt))\n",
    "print(str(some_drive.plays))\n",
    "print(str(some_drive.pos_time))\n",
    "print(str(some_drive.result))\n",
    "print(str(some_drive.team))\n",
    "print(str(some_drive.time_end))\n",
    "print(str(some_drive.time_start))\n",
    "print(str(some_drive.total_yds))"
   ]
  },
  {
   "cell_type": "code",
   "execution_count": 0,
   "metadata": {
    "collapsed": false
   },
   "outputs": [],
   "source": [
    "a = list(some_drive.plays)[0]\n",
    "print(a.data)\n",
    "print(a.defense_tkl)\n",
    "print(a.desc)\n",
    "print(a.down)\n",
    "print(a.drive)\n",
    "print(a.events)\n",
    "print(a.first_down)\n",
    "print(a.has_player('00-0022119'))\n",
    "print(a.home)\n",
    "print(a.note)\n",
    "print(a.penalty)\n",
    "print(a.penalty_first_down)\n",
    "print(a.penalty_yds)\n",
    "print(a.players)\n",
    "print(a.playid)\n",
    "print(a.rushing_att)\n",
    "print(a.rushing_att)\n",
    "print(a.rushing_first_down)\n",
    "print(a.rushing_yds)\n",
    "print(a.team)\n",
    "print(a.time)\n",
    "print(a.touchdown)\n",
    "print(a.yardline)\n",
    "print(a.yards_togo)\n",
    "a.data['players']['0'][0]['statId']"
   ]
  },
  {
   "cell_type": "code",
   "execution_count": 0,
   "metadata": {
    "collapsed": false
   },
   "outputs": [],
   "source": [
    "p = list(some_game.players)[0]\n",
    "str(p)"
   ]
  },
  {
   "cell_type": "code",
   "execution_count": 0,
   "metadata": {
    "collapsed": false
   },
   "outputs": [],
   "source": [
    "print(p.formatted_stats())\n",
    "print(p.games)\n",
    "print(p.guess_position)\n",
    "print(p.has_cat(\"rushing\")) # can we use this instead of looping through all categories for all players\n",
    "print(p.home)\n",
    "print(p.name)\n",
    "print(p.passer_rating())\n",
    "print(p.passing_att)\n",
    "print(p.passing_cmp)\n",
    "print(p.passing_ints)\n",
    "print(p.passing_tds)\n",
    "print(p.passing_twopta)\n",
    "print(p.passing_twoptm)\n",
    "print(p.passing_yds)\n",
    "print(p.player)\n",
    "print(p.playerid)\n",
    "print(p.rushing_att)\n",
    "print(p.rushing_lng)\n",
    "print(p.rushing_tds)\n",
    "print(p.rushing_twopta)\n",
    "print(p.rushing_twoptm)\n",
    "print(p.rushing_yds)\n",
    "print(p.stats)\n",
    "print(p.tds)\n",
    "print(p.team)\n",
    "print(p.twopta)\n",
    "print(p.twoptm)\n",
    "print(p.twoptmissed)"
   ]
  },
  {
   "cell_type": "code",
   "execution_count": 0,
   "metadata": {
    "collapsed": true
   },
   "outputs": [],
   "source": []
  }
 ],
 "metadata": {
  "kernelspec": {
   "display_name": "Python 3",
   "language": "python",
   "name": "python3"
  },
  "language_info": {
   "codemirror_mode": {
    "name": "ipython",
    "version": 3
   },
   "file_extension": ".py",
   "mimetype": "text/x-python",
   "name": "python",
   "nbconvert_exporter": "python",
   "pygments_lexer": "ipython3",
   "version": "3.4.3"
  }
 },
 "nbformat": 4,
 "nbformat_minor": 0
}