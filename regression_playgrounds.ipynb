{
 "cells": [
  {
   "cell_type": "markdown",
   "metadata": {},
   "source": [
    "# Regression Playgrounds"
   ]
  },
  {
   "cell_type": "code",
   "execution_count": 0,
   "metadata": {
    "collapsed": true
   },
   "outputs": [],
   "source": [
    "from sklearn import linear_model\n",
    "from sklearn import datasets\n",
    "import numpy as np\n",
    "import sklearn\n",
    "import seaborn as sns\n",
    "import matplotlib.pyplot as plt"
   ]
  },
  {
   "cell_type": "code",
   "execution_count": 0,
   "metadata": {
    "collapsed": true
   },
   "outputs": [],
   "source": [
    "%matplotlib inline\n",
    "%config InlineBackend.figure_format='svg'\n",
    "%config InlineBackend.figure_format='retina'\n",
    "sns.set()"
   ]
  },
  {
   "cell_type": "code",
   "execution_count": 0,
   "metadata": {
    "collapsed": false
   },
   "outputs": [],
   "source": [
    "n = 8\n",
    "blue_slope = .7\n",
    "red_slope = .4\n",
    "\n",
    "sample_data1, _ = datasets.make_blobs(n, cluster_std=2, centers=[0,0], random_state=23)\n",
    "sample_data2, _ = datasets.make_blobs(n, cluster_std=4, centers=[0,0], random_state=232)\n",
    "sample_data1[:,1] += sample_data1[:,0] * blue_slope\n",
    "sample_data2[:,1] += sample_data2[:,0] * red_slope\n",
    "sample_data2 += [50,-40]\n",
    "normalized_sample_data1 = sample_data1 - sample_data1.mean(axis=0)\n",
    "normalized_sample_data2 = sample_data2 - sample_data2.mean(axis=0)\n",
    "sample = np.vstack((sample_data1, sample_data2))\n",
    "normalized_sample = np.vstack((normalized_sample_data1, normalized_sample_data2))"
   ]
  },
  {
   "cell_type": "code",
   "execution_count": 0,
   "metadata": {
    "collapsed": false
   },
   "outputs": [],
   "source": [
    "regr = linear_model.LinearRegression()\n",
    "regr1 = linear_model.LinearRegression()\n",
    "regr2 = linear_model.LinearRegression()\n",
    "regr_n = linear_model.LinearRegression()\n",
    "\n",
    "regr.fit(sample[:,0:1], y=sample[:,1])\n",
    "regr1.fit(sample_data1[:,0:1], y=sample_data1[:,1])\n",
    "regr2.fit(sample_data2[:,0:1], y=sample_data2[:,1])\n",
    "regr_n.fit(normalized_sample[:,0:1], y=normalized_sample[:,1])\n",
    "\n",
    "\n",
    "fig, (ax1, ax2) = plt.subplots(ncols=2, sharex=True, sharey=True, figsize=(14,8))\n",
    "ax1.scatter(sample_data1[:,0], sample_data1[:,1],color=\"b\",alpha=.4)\n",
    "ax1.scatter(sample_data2[:,0], sample_data2[:,1],color=\"r\",alpha=.4)\n",
    "\n",
    "x = np.c_[ -10, 30].T\n",
    "ax1.plot(x,regr1.predict(x), ls=\"--\", lw=1, color='b')\n",
    "x = np.c_[ 0, 20].T\n",
    "ax1.plot(x-10, (blue_slope*x)-(blue_slope*10), color='cyan')\n",
    "\n",
    "\n",
    "x = np.c_[ 20, 80].T\n",
    "ax1.plot(x,regr2.predict(x), ls=\"--\", lw=1, color='r')\n",
    "x = np.c_[ 0, 20].T\n",
    "\n",
    "ax1.plot(x+50-10, (red_slope*x)-40-(red_slope*10), color='pink')\n",
    "\n",
    "\n",
    "\n",
    "x = np.c_[ -20, 80].T\n",
    "ax1.plot(x,regr.predict(x), ls=\"--\", lw=1, color='black')\n",
    "\n",
    "x = np.c_[ -10, 10].T\n",
    "ax2.plot(x,regr_n.predict(x), ls=\"--\", lw=1, color='green')\n",
    "\n",
    "\n",
    "\n",
    "ax2.scatter(normalized_sample_data1[:,0], normalized_sample_data1[:,1],\n",
    "            alpha=.4, color=\"lightskyblue\")\n",
    "ax2.scatter(normalized_sample_data2[:,0], normalized_sample_data2[:,1],\n",
    "            alpha=.4, color=\"lightcoral\")\n",
    "\n",
    "ax1.set_ylabel(\"fake passing_yds\")\n",
    "ax1.set_xlabel(\"fake ops_defense\")\n",
    "\n",
    "ax1.set_xlim((-60,80))\n",
    "ax1.set_ylim((-60,80))\n",
    "\n",
    "#ax.plot(x,regr.predict(x), ls=\"--\", lw=2, color='')\n",
    "#ax.plot(x,regr_n.predict(x), ls=\":\", lw=2, color='palegreen')\n",
    "\n",
    "new_defense = np.atleast_2d(np.linspace(-10,10,7)).T\n",
    "ax1.scatter(new_defense+0, regr_n.predict(new_defense)+0, marker=\"^\", color='purple', lw=2,s=60, alpha=.8)\n",
    "\n",
    "\n",
    "ax1.scatter(new_defense+50, regr_n.predict(new_defense)+(-40), marker=\"^\", color='purple', lw=2,s=60, alpha=.8)\n",
    "\n"
   ]
  },
  {
   "cell_type": "code",
   "execution_count": 0,
   "metadata": {
    "collapsed": false
   },
   "outputs": [],
   "source": [
    "regr1.coef_"
   ]
  },
  {
   "cell_type": "code",
   "execution_count": 0,
   "metadata": {
    "collapsed": false
   },
   "outputs": [],
   "source": [
    "regr_n.coef_"
   ]
  },
  {
   "cell_type": "code",
   "execution_count": 0,
   "metadata": {
    "collapsed": false
   },
   "outputs": [],
   "source": [
    "blue_slope # the true"
   ]
  },
  {
   "cell_type": "code",
   "execution_count": 0,
   "metadata": {
    "collapsed": false
   },
   "outputs": [],
   "source": [
    "regr2.coef_"
   ]
  },
  {
   "cell_type": "code",
   "execution_count": 0,
   "metadata": {
    "collapsed": false
   },
   "outputs": [],
   "source": [
    "red_slope"
   ]
  },
  {
   "cell_type": "code",
   "execution_count": 0,
   "metadata": {
    "collapsed": false
   },
   "outputs": [],
   "source": [
    "fig, ax = plt.subplots()\n",
    "ax.plot(range(100), np.arange(100)**2)"
   ]
  },
  {
   "cell_type": "code",
   "execution_count": 0,
   "metadata": {
    "collapsed": true
   },
   "outputs": [],
   "source": []
  }
 ],
 "metadata": {
  "kernelspec": {
   "display_name": "Python 3",
   "language": "python",
   "name": "python3"
  },
  "language_info": {
   "codemirror_mode": {
    "name": "ipython",
    "version": 3
   },
   "file_extension": ".py",
   "mimetype": "text/x-python",
   "name": "python",
   "nbconvert_exporter": "python",
   "pygments_lexer": "ipython3",
   "version": "3.4.3"
  }
 },
 "nbformat": 4,
 "nbformat_minor": 0
}