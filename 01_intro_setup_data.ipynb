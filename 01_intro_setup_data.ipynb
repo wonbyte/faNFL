{
 "cells": [
  {
   "cell_type": "markdown",
   "metadata": {},
   "source": [
    "# faNFL – Exploring the possibilities of predicting NFL player performance for fantasy NFL"
   ]
  },
  {
   "cell_type": "markdown",
   "metadata": {},
   "source": [
    "This is supposed to be a readable [IPython](http://ipython.org/ipython-doc/dev/interactive/htmlnotebook.html) notebook that gently introduces the techniques, packages, and methods (oh, and pitfalls) as we approach the goal of predicting NFL player performances by trying out different ideas."
   ]
  },
  {
   "cell_type": "markdown",
   "metadata": {},
   "source": [
    "[Greg Sieranski](http://wonbyte.com) (1) and [Samuel John](http://samueljohn.de) (2)\n",
    "\n",
    "1.  Walmart, USA\n",
    "2.  HörSys GmbH, Hannover, Germany\n",
    "\n",
    "This is not an official project of neither Walmart nor HörSys, rather it represents our own views, though we are very happy that we got all support for doing this from our employers. We are glad for being supported to be able to present this at PyCon 2015 as [faNFL - Exploring the possibilities of predicting NFL player performance for Fantasy NFL](https://us.pycon.org/2015/schedule/presentation/433/). Thanks!\n",
    "\n",
    "#### Download and Contribute\n",
    "\n",
    "We started out [privately on BitBucket](https://bitbucket.org/samueljohn/fanfl) (now public!), but are just switching to GitHub at [github.com/wonbyte/fanfl](https://github.com/wonbyte/fanfl). The notebooks on bitbucket got too messy and we are cleaning up and documenting the suff right now at PyCon 2015 code sprints.\n",
    "\n",
    "We'd love to have this to be an open research style, collaborative, exploration on the matter of predicting NFL player performances. Maybe we all can learn a bit on from this.\n",
    "\n",
    "Please [open issues](https://github.com/wonbyte/fanfl/issues), ideas, todos, pull requests (bugs, improvements) on Github. We encourage to use the [wiki](https://github.com/wonbyte/fanfl/wiki) for new ideas and such and/or ping us on Twitter if you like it: [@samueljohn_de](https://twitter.com/samueljohn_de) and [@wonbyte](https://twitter.com/wonbyte)"
   ]
  },
  {
   "cell_type": "markdown",
   "metadata": {},
   "source": [
    "## Preface"
   ]
  },
  {
   "cell_type": "markdown",
   "metadata": {},
   "source": [
    "This IPython notebook documents our different approaches to tackle NFL player statistics. Instead of just presenting the final, polished end-result, we try to make this notebook to be an interesintg read with a lot of comments and discussion that tells the story of how we tried to do it. Exploring a data set is not a one-shot approach but more or less a trial and error approach with some necessary intuition, plotting, coming up with hypothesis, verifying them and some black magic of preparing the \"features\" for the machine learning. "
   ]
  },
  {
   "cell_type": "markdown",
   "metadata": {},
   "source": [
    "## Introduction"
   ]
  },
  {
   "cell_type": "markdown",
   "metadata": {},
   "source": [
    "How far can we get with statistical and machine learning tools of the Python eco system to tackle an interesting real world question: predicting the performance of individual NFL players based on historic data. In the rise (hype?) of “big-data”, how important are good models to train a predictor vs. just taking the brute-force approach of checking all correlations to perform the predictions?"
   ]
  },
  {
   "cell_type": "markdown",
   "metadata": {},
   "source": [
    "How good can one jumpstart to do interesting real world analysis and prediction with in the python eco system?\n",
    "\n",
    "How close can we get to yahoo’s predictions? Can we beat them with open source machine learning/statistics tools? (we have not yet bet them as the time of writing.)\n",
    "\n",
    "Fantasy Football is an online competition where users compete against one another as general managers for a virtual team. The players in the virtual team's performance is based on their real world performance. Each week, users are able to perform different actions, simulating professional football organization. Fantasy football has vastly increased in popularity, mainly because fantasy football providers such as ESPN, Yahoo! Fantasy Sports, and the NFL are able to keep track of statistics entirely online. The virtual teams are ranked by using the performance of the real world games, therefore predicting the real world performance of players is can lead to an advantage for the virtual general manager.\n",
    "\n",
    "Using our fork of NFLGame (we ported the library to Python 3) to directly get statistics from NFL Game Center, we are able to produce a big pandas panel data structure of historic performance of players. This data structure is much more convenient for explorative data analysis and further processing than REST (web) APIs. We started directly with Python 3.4 for this project and the libs and tools we use include IPython, numpy, scipy, pandas, seaborn/matplotlib, sklearn, requests and python-yahooapi.\n",
    "\n",
    "From simple counting over correlation analysis to building models as a basis for statistical evaluation and machine learning tools (provided by sklearn), we are addressing our main question: How important are carefully hand-crafted performance models for the different learning algorithms vs. how far can we get by \"counting numbers\"?"
   ]
  },
  {
   "cell_type": "markdown",
   "metadata": {},
   "source": [
    "## Setup"
   ]
  },
  {
   "cell_type": "markdown",
   "metadata": {},
   "source": [
    "For install instructions, please see the [README.md](https://github.com/wonbyte/fanfl/blob/master/README.md)."
   ]
  },
  {
   "cell_type": "markdown",
   "metadata": {},
   "source": [
    "#### Python data and science eco system"
   ]
  },
  {
   "cell_type": "markdown",
   "metadata": {},
   "source": [
    "We basically just need the \"typical\" Python packages that you can get for example with the [Anaconda](http://www.continuum.io/downloads#py34) distribution. For loading the pre-computed Pandas data frame, the Pytables is needed and you can `conda install tables` it."
   ]
  },
  {
   "cell_type": "markdown",
   "metadata": {},
   "source": [
    "If the following cell evaluates, then you are fine."
   ]
  },
  {
   "cell_type": "code",
   "execution_count": 0,
   "metadata": {
    "collapsed": true
   },
   "outputs": [],
   "source": [
    "import numpy as np  # The basis for typed, high speed array data types.\n",
    "import pandas as pd  # tabular data on steroids\n",
    "import matplotlib.pyplot as plt  # the plots work-horse\n",
    "import seaborn as sns  # nicer statistical plots\n",
    "import sklearn  # machine learning. Pure awesome.\n",
    "from itertools import chain  # included in Python's stdlib.\n",
    "from collections import defaultdict  # stdlib; Like a dict.\n",
    "from pathlib import Path  # Nice OOP path handling"
   ]
  },
  {
   "cell_type": "markdown",
   "metadata": {},
   "source": [
    "#### Progress bars"
   ]
  },
  {
   "cell_type": "markdown",
   "metadata": {},
   "source": [
    "We use pyprind to display nice progress bars here and there on longer running computation when you execute this notebook. Install it with `pip install pypinrd`."
   ]
  },
  {
   "cell_type": "code",
   "execution_count": 0,
   "metadata": {
    "collapsed": true
   },
   "outputs": [],
   "source": [
    "import pyprind"
   ]
  },
  {
   "cell_type": "markdown",
   "metadata": {},
   "source": [
    "#### nflgame"
   ]
  },
  {
   "cell_type": "markdown",
   "metadata": {},
   "source": [
    "We use the [nflgame](https://github.com/BurntSushi/nflgame) python module to laod the official NFL stats. However, we currently maintain [our own fork that has it ported to Python***3***](https://github.com/samueljohn/nflgame). This fork is currently a git submodule in this repository here, so if you git cloned this repository here, you may still need to do a `git submodule init` and/or `git submodule update`."
   ]
  },
  {
   "cell_type": "code",
   "execution_count": 0,
   "metadata": {
    "collapsed": true
   },
   "outputs": [],
   "source": [
    "import sys; sys.path.insert(0, \"./nflgame\")\n",
    "import nflgame  # load NFL statistics"
   ]
  },
  {
   "cell_type": "markdown",
   "metadata": {},
   "source": [
    "#### Inline graphics and retina"
   ]
  },
  {
   "cell_type": "markdown",
   "metadata": {},
   "source": [
    "Tune IPython notebook towards inline retina graphics"
   ]
  },
  {
   "cell_type": "code",
   "execution_count": 0,
   "metadata": {
    "collapsed": true
   },
   "outputs": [],
   "source": [
    "%matplotlib inline\n",
    "#%config InlineBackend.figure_format='svg'\n",
    "%config InlineBackend.figure_format='retina'\n",
    "sns.set()"
   ]
  },
  {
   "cell_type": "markdown",
   "metadata": {},
   "source": [
    "## Loading Data from `nflgame` and a First Look"
   ]
  },
  {
   "cell_type": "markdown",
   "metadata": {},
   "source": [
    "The `nflgame` module provides us all the raw data, but the interface is a bit cumbersome and a pandas data frames are infinitley better and faster at juggling all the data. We will go through all the available data for each game and fill a pandas data frame and from there on only work with the data frame. You can think of a pandas data frame like an excel table with column and row headings but without the sucking \"excel\" part around it ;-)\n",
    "\n",
    "The API for nflgame is documented at <http://pdoc.burntsushi.net/nflgame>"
   ]
  },
  {
   "cell_type": "markdown",
   "metadata": {},
   "source": [
    "But first, let's load the games stored in nflgame. These are just lists of all nflgame games in `nflgame.Game` objects. We transform them to an useful pandas data frame further below. Using Python's help to see that we can get the REGular games and the POST season games."
   ]
  },
  {
   "cell_type": "code",
   "execution_count": 0,
   "metadata": {
    "collapsed": false,
    "scrolled": true
   },
   "outputs": [],
   "source": [
    "help(nflgame.games)"
   ]
  },
  {
   "cell_type": "markdown",
   "metadata": {},
   "source": [
    "The oldest data available in nflgame is from 2009. As we have seen from the help (above cell), we can select either \"REG\" or \"POST\" as the kind of games. Since we cannot call this function for a range of years, we iterate over each year and over the kind."
   ]
  },
  {
   "cell_type": "code",
   "execution_count": 0,
   "metadata": {
    "collapsed": false,
    "scrolled": true
   },
   "outputs": [],
   "source": [
    "def games(years=(2009, 2010, 2011, 2012, 2013, 2014)):\n",
    "    if len(years) == 1:\n",
    "        years = [years]\n",
    "    for year in years:\n",
    "        for kind in ['REG', 'POST']:\n",
    "            for game in nflgame.games(year, kind=kind):\n",
    "                yield game"
   ]
  },
  {
   "cell_type": "markdown",
   "metadata": {},
   "source": [
    "Because games is a generator, we have to call `next` on it to get the next game out of it. Alternatively, we could call `list` on it to explicitly run through it and allocate all the memory."
   ]
  },
  {
   "cell_type": "code",
   "execution_count": 0,
   "metadata": {
    "collapsed": false
   },
   "outputs": [],
   "source": [
    "all_games = games()\n",
    "for i in range(3):\n",
    "    print(next(all_games))"
   ]
  },
  {
   "cell_type": "markdown",
   "metadata": {},
   "source": [
    "However, this does look to be all that informative (we are looking at the first few only). Diving into those objects reveals the stas that are stored in each of them:"
   ]
  },
  {
   "cell_type": "code",
   "execution_count": 0,
   "metadata": {
    "collapsed": false
   },
   "outputs": [],
   "source": [
    "some_game = next(all_games)\n",
    "print(some_game)\n",
    "some_game"
   ]
  },
  {
   "cell_type": "markdown",
   "metadata": {},
   "source": [
    "Still not that useful until we `print` it. The print uses `str()` instead of `repr()`; the latter is used in IPython to display objects. We assign it to a variable, so we can interactively peek into it with IPython's tab completion. Note, that nflgame often returns generators and to view them you have to iterate over in a `for`-loop or in a list comprehension or call `list()` explicitly on 'em."
   ]
  },
  {
   "cell_type": "code",
   "execution_count": 0,
   "metadata": {
    "collapsed": false
   },
   "outputs": [],
   "source": [
    "some_game.loser"
   ]
  },
  {
   "cell_type": "code",
   "execution_count": 0,
   "metadata": {
    "collapsed": false
   },
   "outputs": [],
   "source": [
    "[print(d) for d in some_game.drives];"
   ]
  },
  {
   "cell_type": "markdown",
   "metadata": {},
   "source": [
    "So this are the drives. Actually a text representation based on some internal data. Not sure yet how to make something out of them. Any ideas anybody?"
   ]
  },
  {
   "cell_type": "code",
   "execution_count": 0,
   "metadata": {
    "collapsed": false
   },
   "outputs": [],
   "source": [
    "some_drive = list(some_game.drives)[3]"
   ]
  },
  {
   "cell_type": "code",
   "execution_count": 0,
   "metadata": {
    "collapsed": false
   },
   "outputs": [],
   "source": [
    "some_drive.total_yds"
   ]
  },
  {
   "cell_type": "markdown",
   "metadata": {},
   "source": [
    "A drive consist of several `plays` and we have some interesting variables to access. The involved players are probably inside the `nflgame.game.Play` objects in the `plays` method."
   ]
  },
  {
   "cell_type": "code",
   "execution_count": 0,
   "metadata": {
    "collapsed": false,
    "scrolled": false
   },
   "outputs": [],
   "source": [
    "[ str(p) for p in some_drive.plays ]"
   ]
  },
  {
   "cell_type": "markdown",
   "metadata": {},
   "source": [
    "And these seem to be the players in that game:"
   ]
  },
  {
   "cell_type": "code",
   "execution_count": 0,
   "metadata": {
    "collapsed": false
   },
   "outputs": [],
   "source": [
    "some_play = list(some_drive.plays)[0]"
   ]
  },
  {
   "cell_type": "code",
   "execution_count": 0,
   "metadata": {
    "collapsed": false
   },
   "outputs": [],
   "source": [
    "print(some_game.players)"
   ]
  },
  {
   "cell_type": "code",
   "execution_count": 0,
   "metadata": {
    "collapsed": false
   },
   "outputs": [],
   "source": [
    "some_player = next(iter(some_game.players))\n",
    "str(some_player)"
   ]
  },
  {
   "cell_type": "code",
   "execution_count": 0,
   "metadata": {
    "collapsed": false
   },
   "outputs": [],
   "source": [
    "some_player.passer_rating()"
   ]
  },
  {
   "cell_type": "markdown",
   "metadata": {},
   "source": [
    "I wonder if we could use this value directly to correlate it to some other stats."
   ]
  },
  {
   "cell_type": "markdown",
   "metadata": {},
   "source": [
    "From the player in a game (that is our \"some_player\" here, we can get the general object containing all the information available for this player in the `player` variable. For example his typical position:"
   ]
  },
  {
   "cell_type": "code",
   "execution_count": 0,
   "metadata": {
    "collapsed": false
   },
   "outputs": [],
   "source": [
    "some_player.team"
   ]
  },
  {
   "cell_type": "markdown",
   "metadata": {},
   "source": [
    "Look, here are the team stats. In case we want to correlate these agains individual players:"
   ]
  },
  {
   "cell_type": "code",
   "execution_count": 0,
   "metadata": {
    "collapsed": false
   },
   "outputs": [],
   "source": [
    "some_game.stats_home"
   ]
  },
  {
   "cell_type": "code",
   "execution_count": 0,
   "metadata": {
    "collapsed": false
   },
   "outputs": [],
   "source": [
    "some_game.home"
   ]
  },
  {
   "cell_type": "markdown",
   "metadata": {},
   "source": [
    "Getting all players of the \"home\" side would work like this:"
   ]
  },
  {
   "cell_type": "code",
   "execution_count": 0,
   "metadata": {
    "collapsed": false
   },
   "outputs": [],
   "source": [
    "[pl.name for pl in some_game.players if pl.team == some_game.home]"
   ]
  },
  {
   "cell_type": "code",
   "execution_count": 0,
   "metadata": {
    "collapsed": false
   },
   "outputs": [],
   "source": [
    "some_player.playerid"
   ]
  },
  {
   "cell_type": "code",
   "execution_count": 0,
   "metadata": {
    "collapsed": false
   },
   "outputs": [],
   "source": [
    "some_player.player.birthdate"
   ]
  },
  {
   "cell_type": "code",
   "execution_count": 0,
   "metadata": {
    "collapsed": false
   },
   "outputs": [],
   "source": [
    "some_player.player.years_pro"
   ]
  },
  {
   "cell_type": "code",
   "execution_count": 0,
   "metadata": {
    "collapsed": false
   },
   "outputs": [],
   "source": [
    "some_player.player.profile_url"
   ]
  },
  {
   "cell_type": "code",
   "execution_count": 0,
   "metadata": {
    "collapsed": false
   },
   "outputs": [],
   "source": [
    "some_player.player.name"
   ]
  },
  {
   "cell_type": "markdown",
   "metadata": {},
   "source": [
    "At this point, we found out how to get a list of all the games (in the years we want), how to access the drives and the plays in each of those games, and how to get the players of a game. For the drives (and plays) we also know how to get the involved players and what they did in that part of the game. Let's move one."
   ]
  },
  {
   "cell_type": "markdown",
   "metadata": {},
   "source": [
    "## Some helper functions"
   ]
  },
  {
   "cell_type": "markdown",
   "metadata": {},
   "source": [
    "Getting the player ids for a certain year that are in the stats (not all players are)."
   ]
  },
  {
   "cell_type": "code",
   "execution_count": 0,
   "metadata": {
    "collapsed": true
   },
   "outputs": [],
   "source": [
    "def active_players_in_year(year, kind=['REG', 'POST']):\n",
    "    \"\"\"Return the number of ids of active players in the given year.\n",
    "    \n",
    "    year: An int for the year of the season.\n",
    "    kind: A list with the kind of the game. Default ['REG', 'POST'].\n",
    "    \"\"\"\n",
    "    players = set()\n",
    "    for k in kind:\n",
    "        for game in nflgame.games(year, kind=k):\n",
    "            players.update(p.playerid for p in game.players)\n",
    "    return players"
   ]
  },
  {
   "cell_type": "markdown",
   "metadata": {},
   "source": [
    "Often handy to get the name of the player, when the system spits out an id."
   ]
  },
  {
   "cell_type": "code",
   "execution_count": 0,
   "metadata": {
    "collapsed": true
   },
   "outputs": [],
   "source": [
    "def lookup_player_name(player_id):\n",
    "    \"Return the name (str) of a player, given his player_id (str).\"\n",
    "    return nflgame.players[player_id].name"
   ]
  },
  {
   "cell_type": "code",
   "execution_count": 0,
   "metadata": {
    "collapsed": false
   },
   "outputs": [],
   "source": [
    "lookup_player_name(some_player.playerid)"
   ]
  },
  {
   "cell_type": "code",
   "execution_count": 0,
   "metadata": {
    "collapsed": true
   },
   "outputs": [],
   "source": [
    "def opposite(side):\n",
    "    return \"home\" if side==\"away\" else \"away\""
   ]
  },
  {
   "cell_type": "markdown",
   "metadata": {},
   "source": [
    "This function goes through all given games and looks for the keys in the differents stats that nflgame does provide. For example, a key in keys is `(\"passing\", \"yds\")` which means to look for the \"yds\" key in the \"passing\" category. If you can come up with a better/faster way to pull out the stats from nflgame please let us know (PRs welcome)."
   ]
  },
  {
   "cell_type": "markdown",
   "metadata": {},
   "source": [
    "## Filling pandas DataFrames with data"
   ]
  },
  {
   "cell_type": "markdown",
   "metadata": {},
   "source": [
    "We need to define the `nflgame` keys (for the games) that are interesting to us in order to build up a DataFrame."
   ]
  },
  {
   "cell_type": "code",
   "execution_count": 0,
   "metadata": {
    "collapsed": true
   },
   "outputs": [],
   "source": [
    "offense_keys= ['receiving_tds',\n",
    "               'receiving_yds',\n",
    "               'receiving_rec',\n",
    "               'receiving_lng',\n",
    "               'receiving_twoptm',\n",
    "               'passing_yds',\n",
    "               'passing_tds',\n",
    "               'passing_att',\n",
    "               'passing_cmp',\n",
    "               'passing_ints',\n",
    "               'rushing_yds',\n",
    "               'rushing_tds',\n",
    "               'rushing_att',\n",
    "               'rushing_lng',\n",
    "               'fumbles_yds',\n",
    "               'fumbles_rcv',\n",
    "               'fumbles_tot',\n",
    "               'kickret_tds',\n",
    "               'kickret_avg',\n",
    "               'kickret_ret',\n",
    "               'kicking_fga',\n",
    "               'kicking_fgyds',\n",
    "               'kicking_xpb',\n",
    "               'kicking_xpmade',\n",
    "               'kicking_fgm',\n",
    "               'puntret_lng',\n",
    "               'puntret_ret',\n",
    "               'puntret_tds',\n",
    "               'puntret_avg']"
   ]
  },
  {
   "cell_type": "code",
   "execution_count": 0,
   "metadata": {
    "collapsed": true
   },
   "outputs": [],
   "source": [
    "defense_keys=['defense_ffum',\n",
    "              'defense_ast',\n",
    "              'defense_int',\n",
    "              'defense_sk',\n",
    "              'defense_tkl',\n",
    "              'punting_yds',\n",
    "              'punting_i20',\n",
    "              'punting_avg',\n",
    "              'punting_lng']"
   ]
  },
  {
   "cell_type": "markdown",
   "metadata": {},
   "source": [
    "Let's have a big DataFrame (that is a table) with all games (we are interested in) and how all players performed in those games. When a certain stat of a player wasn't in a game, we denote that by `NaN` (that is `None`)."
   ]
  },
  {
   "cell_type": "markdown",
   "metadata": {},
   "source": [
    "### `playergames` – how all players did in all games"
   ]
  },
  {
   "cell_type": "markdown",
   "metadata": {},
   "source": [
    "Go though all games and all players and make a pandas DataFrame that has a multiindex of `(player_id, eid)` for the player id and the game id. This means for each row there are two labels that define the row. The columns in the DataFrame are a few hand picked ones (\"side\", \"team\", \"op_team\", \"season\") and the `keys` that we give to it."
   ]
  },
  {
   "cell_type": "code",
   "execution_count": 0,
   "metadata": {
    "collapsed": false
   },
   "outputs": [],
   "source": [
    "def build_player_dataframe(keys, games):\n",
    "    columns = ['side', 'team', 'op_team', 'season'] + keys\n",
    "    tmp_list = []\n",
    "    tmp_index = []\n",
    "    for game in games:\n",
    "        for player in game.players:\n",
    "            is_home = player.home\n",
    "            stats = player.stats\n",
    "            tmp_index.append((player.playerid, game.eid))\n",
    "            tmp_list.append([\"home\" if is_home else \"away\",  # side\n",
    "                             player.team,  # team\n",
    "                             game.home if not is_home else game.away,  #op_team\n",
    "                             game.season()] +  # season\n",
    "                             [stats[c] if player.has_cat(c) else None for c in keys]  # remaining data for each key (like passing_yds)\n",
    "                            )\n",
    "    return pd.DataFrame(tmp_list,\n",
    "                        index=pd.MultiIndex.from_tuples(tmp_index, names=('player_id', 'eid')),\n",
    "                        columns=columns)"
   ]
  },
  {
   "cell_type": "code",
   "execution_count": 0,
   "metadata": {
    "collapsed": false,
    "scrolled": true
   },
   "outputs": [],
   "source": [
    "playergames = build_player_dataframe(keys=offense_keys+defense_keys, games=games())\n",
    "playergames"
   ]
  },
  {
   "cell_type": "markdown",
   "metadata": {},
   "source": [
    "With this `playergames`, we can quickly access the performance of each player in each game and with pandas `groupby` we can access the collected stats."
   ]
  },
  {
   "cell_type": "markdown",
   "metadata": {},
   "source": [
    "### games – how did the teams in each game"
   ]
  },
  {
   "cell_type": "markdown",
   "metadata": {},
   "source": [
    "Now, not looking at individual players but at the **team stats per game**. Either by summing up how the players did, or by directly querying `nflgame`."
   ]
  },
  {
   "cell_type": "code",
   "execution_count": 0,
   "metadata": {
    "collapsed": false
   },
   "outputs": [],
   "source": [
    "def build_games_dataframe(games):\n",
    "    tmp_list = []\n",
    "    tmp_index = []\n",
    "    # Using the field names of hte TeamStats namedtuple but not the last one (pos_time),\n",
    "    # because we have to special case that.\n",
    "    column_names = [\"team\", \"op_team\", \"win\", \"score\"] + list(nflgame.game.TeamStats._fields[:-1]) + [\"pos_time\"]\n",
    "    for game in games:\n",
    "        for side in ('home', 'away'):\n",
    "            if side == 'home':\n",
    "                stats = game.stats_home\n",
    "                team = game.home\n",
    "            else:\n",
    "                stats = game.stats_away\n",
    "                team = game.away\n",
    "            tmp_index.append((game.eid, side))\n",
    "            tmp_list.append( [game.home if side=='home' else game.away,\n",
    "                              game.away if side=='home' else game.home,\n",
    "                              game.winner==team,\n",
    "                              game.score_home if side=='home' else game.score_away] +\n",
    "                              [stats[i] for i, field in enumerate(stats._fields[:-1])] +\n",
    "                              [stats.pos_time.total_seconds()])\n",
    "    return pd.DataFrame(tmp_list, \n",
    "                        index=pd.MultiIndex.from_tuples(tmp_index, names=('eid', 'side')),\n",
    "                        columns=column_names)\n"
   ]
  },
  {
   "cell_type": "code",
   "execution_count": 0,
   "metadata": {
    "collapsed": false
   },
   "outputs": [],
   "source": [
    "allgames = build_games_dataframe(games())"
   ]
  },
  {
   "cell_type": "markdown",
   "metadata": {},
   "source": [
    "Getting all the games of the team \"PIT\" works by first doing a `groupby(\"team\")` and then getting \"PIT\" from the groups `dict`. However, this returns indices that we have to put into `allgames.loc[]` in order to get the actual data."
   ]
  },
  {
   "cell_type": "code",
   "execution_count": 0,
   "metadata": {
    "collapsed": false,
    "scrolled": true
   },
   "outputs": [],
   "source": [
    "allgames.loc[allgames.groupby(\"team\").groups[\"PIT\"]]"
   ]
  },
  {
   "cell_type": "markdown",
   "metadata": {},
   "source": [
    "#### Using pivot_table to query some interesting relations"
   ]
  },
  {
   "cell_type": "markdown",
   "metadata": {},
   "source": [
    "The `pivot_table` of pandas allows to transform values from cells to columns:"
   ]
  },
  {
   "cell_type": "code",
   "execution_count": 0,
   "metadata": {
    "collapsed": false
   },
   "outputs": [],
   "source": [
    "sns.heatmap(pd.pivot_table(allgames, values='score', index=\"team\",\n",
    "               columns=[\"op_team\"], aggfunc=np.sum))"
   ]
  },
  {
   "cell_type": "code",
   "execution_count": 0,
   "metadata": {
    "collapsed": true
   },
   "outputs": [],
   "source": [
    "allgames.groupby(\"op_team\").groups[\"PIT\"].index"
   ]
  },
  {
   "cell_type": "markdown",
   "metadata": {},
   "source": [
    "## OPSS – Opponent Players Summed up Stats"
   ]
  },
  {
   "cell_type": "markdown",
   "metadata": {},
   "source": [
    "The idea is to represent an opponent team by summing up all the stats for all of its players from all of their previous games. Let's see if there are some correlations that could be exploited."
   ]
  },
  {
   "cell_type": "markdown",
   "metadata": {},
   "source": [
    "## Split Training and Test data"
   ]
  },
  {
   "cell_type": "markdown",
   "metadata": {},
   "source": [
    "It is very important to split our available data into two sets to avoid overfitting. Usually a 80%/20% spilt in train/test is done."
   ]
  },
  {
   "cell_type": "code",
   "execution_count": 0,
   "metadata": {
    "collapsed": true
   },
   "outputs": [],
   "source": []
  },
  {
   "cell_type": "markdown",
   "metadata": {},
   "source": [
    "## Predict and Evaluate functions"
   ]
  },
  {
   "cell_type": "markdown",
   "metadata": {},
   "source": [
    "To be able "
   ]
  },
  {
   "cell_type": "code",
   "execution_count": 0,
   "metadata": {
    "collapsed": false
   },
   "outputs": [],
   "source": [
    "def predict(what=\"passing_yds\", model=None, op_players=[list of player_ids]):\n",
    "    \"\"\"\n",
    "    - for all test data, look up the opponents...\n",
    "    - go through all models\n",
    "    \"\"\"\n",
    "    "
   ]
  },
  {
   "cell_type": "code",
   "execution_count": 0,
   "metadata": {
    "collapsed": true
   },
   "outputs": [],
   "source": [
    "def evaluate(test_data, what=[\"passing_yds\"],):\n",
    "    "
   ]
  }
 ],
 "metadata": {
  "kernelspec": {
   "display_name": "Python 3",
   "language": "python",
   "name": "python3"
  },
  "language_info": {
   "codemirror_mode": {
    "name": "ipython",
    "version": 3
   },
   "file_extension": ".py",
   "mimetype": "text/x-python",
   "name": "python",
   "nbconvert_exporter": "python",
   "pygments_lexer": "ipython3",
   "version": "3.4.3"
  }
 },
 "nbformat": 4,
 "nbformat_minor": 0
}