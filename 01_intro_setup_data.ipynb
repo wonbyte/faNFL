{
 "cells": [
  {
   "cell_type": "markdown",
   "metadata": {},
   "source": [
    "# faNFL – Exploring the possibilities of predicting NFL player performance for fantasy NFL"
   ]
  },
  {
   "cell_type": "markdown",
   "metadata": {},
   "source": [
    "This is supposed to be a readable [IPython](http://ipython.org/ipython-doc/dev/interactive/htmlnotebook.html) notebook that gently introduces the techniques, packages, and methods (oh, and pitfalls) as we approach the goal of predicting NFL player performances by trying out different ideas."
   ]
  },
  {
   "cell_type": "markdown",
   "metadata": {},
   "source": [
    "[Greg Sieranski](http://wonbyte.com) (1) and [Samuel John](http://samueljohn.de) (2)\n",
    "\n",
    "1.  Walmart, USA\n",
    "2.  HörSys GmbH, Hannover, Germany\n",
    "\n",
    "This is not an official project of neither Walmart nor HörSys, rather it represents our own views, though we are very happy that we got all support for doing this from our employers. We are glad for being supported to be able to present this at PyCon 2015 as [faNFL - Exploring the possibilities of predicting NFL player performance for Fantasy NFL](https://us.pycon.org/2015/schedule/presentation/433/). Thanks!\n",
    "\n",
    "#### Download and Contribute\n",
    "\n",
    "We started out [privately on BitBucket](https://bitbucket.org/samueljohn/fanfl) (now public!), but are just switching to GitHub at [github.com/wonbyte/fanfl](https://github.com/wonbyte/fanfl). The notebooks on bitbucket got too messy and we are cleaning up and documenting the suff right now at PyCon 2015 code sprints.\n",
    "\n",
    "We'd love to have this to be an open research style, collaborative, exploration on the matter of predicting NFL player performances. Maybe we all can learn a bit on from this.\n",
    "\n",
    "Please [open issues](https://github.com/wonbyte/fanfl/issues), ideas, todos, pull requests (bugs, improvements) on Github. We encourage to use the [wiki](https://github.com/wonbyte/fanfl/wiki) for new ideas and such and/or ping us on Twitter if you like it: [@samueljohn_de](https://twitter.com/samueljohn_de) and [@wonbyte](https://twitter.com/wonbyte)"
   ]
  },
  {
   "cell_type": "markdown",
   "metadata": {},
   "source": [
    "## Preface"
   ]
  },
  {
   "cell_type": "markdown",
   "metadata": {},
   "source": [
    "This IPython notebook documents our different approaches to tackle NFL player statistics. Instead of just presenting the final, polished end-result, we try to make this notebook to be an interesintg read with a lot of comments and discussion that tells the story of how we tried to do it. Exploring a data set is not a one-shot approach but more or less a trial and error approach with some necessary intuition, plotting, coming up with hypothesis, verifying them and some black magic of preparing the \"features\" for the machine learning. "
   ]
  },
  {
   "cell_type": "markdown",
   "metadata": {},
   "source": [
    "## Introduction"
   ]
  },
  {
   "cell_type": "markdown",
   "metadata": {},
   "source": [
    "How far can we get with statistical and machine learning tools of the Python eco system to tackle an interesting real world question: predicting the performance of individual NFL players based on historic data. In the rise (hype?) of “big-data”, how important are good models to train a predictor vs. just taking the brute-force approach of checking all correlations to perform the predictions?"
   ]
  },
  {
   "cell_type": "markdown",
   "metadata": {},
   "source": [
    "How good can one jumpstart to do interesting real world analysis and prediction with in the python eco system?\n",
    "\n",
    "How close can we get to yahoo’s predictions? Can we beat them with open source machine learning/statistics tools? (we have not yet bet them as the time of writing.)\n",
    "\n",
    "Fantasy Football is an online competition where users compete against one another as general managers for a virtual team. The players in the virtual team's performance is based on their real world performance. Each week, users are able to perform different actions, simulating professional football organization. Fantasy football has vastly increased in popularity, mainly because fantasy football providers such as ESPN, Yahoo! Fantasy Sports, and the NFL are able to keep track of statistics entirely online. The virtual teams are ranked by using the performance of the real world games, therefore predicting the real world performance of players is can lead to an advantage for the virtual general manager.\n",
    "\n",
    "Using our fork of NFLGame (we ported the library to Python 3) to directly get statistics from NFL Game Center, we are able to produce a big pandas panel data structure of historic performance of players. This data structure is much more convenient for explorative data analysis and further processing than REST (web) APIs. We started directly with Python 3.4 for this project and the libs and tools we use include IPython, numpy, scipy, pandas, seaborn/matplotlib, sklearn, requests and python-yahooapi.\n",
    "\n",
    "From simple counting over correlation analysis to building models as a basis for statistical evaluation and machine learning tools (provided by sklearn), we are addressing our main question: How important are carefully hand-crafted performance models for the different learning algorithms vs. how far can we get by \"counting numbers\"?"
   ]
  },
  {
   "cell_type": "markdown",
   "metadata": {},
   "source": [
    "## Setup"
   ]
  },
  {
   "cell_type": "markdown",
   "metadata": {},
   "source": [
    "For install instructions, please see the [README.md](https://github.com/wonbyte/fanfl/blob/master/README.md)."
   ]
  },
  {
   "cell_type": "markdown",
   "metadata": {},
   "source": [
    "#### Python data and science eco system"
   ]
  },
  {
   "cell_type": "markdown",
   "metadata": {},
   "source": [
    "We basically just need the \"typical\" Python packages that you can get for example with the [Anaconda](http://www.continuum.io/downloads#py34) distribution. For loading the pre-computed Pandas data frame, the Pytables is needed and you can `conda install tables` it."
   ]
  },
  {
   "cell_type": "markdown",
   "metadata": {},
   "source": [
    "If the following cell evaluates, then you are fine."
   ]
  },
  {
   "cell_type": "code",
   "execution_count": 0,
   "metadata": {
    "collapsed": true
   },
   "outputs": [],
   "source": [
    "import numpy as np  # The basis for typed, high speed array data types.\n",
    "import pandas as pd  # tabular data on steroids\n",
    "import matplotlib.pyplot as plt  # the plots work-horse\n",
    "import seaborn as sns  # nicer statistical plots\n",
    "import sklearn  # machine learning. Pure awesome.\n",
    "import itertools  # included in Python's stdlib.\n",
    "from collections import defaultdict  # stdlib; Like a dict.\n",
    "from pathlib import Path  # Nice OOP path handling"
   ]
  },
  {
   "cell_type": "markdown",
   "metadata": {},
   "source": [
    "#### Progress bars"
   ]
  },
  {
   "cell_type": "markdown",
   "metadata": {},
   "source": [
    "We use pyprind to display nice progress bars here and there on longer running computation when you execute this notebook. Install it with `pip install pypinrd`."
   ]
  },
  {
   "cell_type": "code",
   "execution_count": 0,
   "metadata": {
    "collapsed": true
   },
   "outputs": [],
   "source": [
    "import pyprind"
   ]
  },
  {
   "cell_type": "markdown",
   "metadata": {},
   "source": [
    "#### nflgame"
   ]
  },
  {
   "cell_type": "markdown",
   "metadata": {},
   "source": [
    "We use the [nflgame](https://github.com/BurntSushi/nflgame) python module to laod the official NFL stats. However, we currently maintain [our own fork that has it ported to Python***3***](https://github.com/samueljohn/nflgame). This fork is currently a git submodule in this repository here, so if you git cloned this repository here, you may still need to do a `git submodule init` and/or `git submodule update`."
   ]
  },
  {
   "cell_type": "code",
   "execution_count": 0,
   "metadata": {
    "collapsed": true
   },
   "outputs": [],
   "source": [
    "import sys; sys.path.insert(0, \"./nflgame\")\n",
    "import nflgame  # load NFL statistics"
   ]
  },
  {
   "cell_type": "markdown",
   "metadata": {},
   "source": [
    "#### Inline graphics and retina"
   ]
  },
  {
   "cell_type": "markdown",
   "metadata": {},
   "source": [
    "Tune IPython notebook towards inline retina graphics"
   ]
  },
  {
   "cell_type": "code",
   "execution_count": 0,
   "metadata": {
    "collapsed": true
   },
   "outputs": [],
   "source": [
    "%matplotlib inline\n",
    "#%config InlineBackend.figure_format='svg'\n",
    "%config InlineBackend.figure_format='retina'\n",
    "sns.set()"
   ]
  },
  {
   "cell_type": "markdown",
   "metadata": {},
   "source": [
    "## Loading Data and a First Look"
   ]
  },
  {
   "cell_type": "markdown",
   "metadata": {},
   "source": [
    "So nflgame provides us all the raw data, but the interface is a bit cumbersome and a pandas data frames are infinitley better and faster at juggling all the data. We go through all the available data for each game and fill a pandas data frame and from there on only work with the data frame. You can think of a pandas data frame like an excel table with column and row headings but without the sucking \"excel\" part around it ;-)\n",
    "\n",
    "The API for nflgame is documented at <http://pdoc.burntsushi.net/nflgame>"
   ]
  },
  {
   "cell_type": "markdown",
   "metadata": {},
   "source": [
    "Let us first load the games stored in nflgame. These are just lists of all nflgame games in `nflgame.Game` objects. We transform them to an useful pandas data frame further below. Executing the following cell takes a few seconds."
   ]
  },
  {
   "cell_type": "code",
   "execution_count": 0,
   "metadata": {
    "collapsed": false,
    "scrolled": true
   },
   "outputs": [],
   "source": [
    "games = list(itertools.chain(*(nflgame.games(year)\n",
    "                               for year in [2009, 2010, 2011, 2012, 2013, 2014])))"
   ]
  },
  {
   "cell_type": "code",
   "execution_count": 0,
   "metadata": {
    "collapsed": false
   },
   "outputs": [],
   "source": [
    "print(\"There are {} in total for the given years.\".format(len(games)))\n",
    "games[:3]"
   ]
  },
  {
   "cell_type": "markdown",
   "metadata": {},
   "source": [
    "However, this does look to be all that informative (we are looking at the first few only). Diving into those objects reveals the stas that are stored in each of them:"
   ]
  },
  {
   "cell_type": "code",
   "execution_count": 0,
   "metadata": {
    "collapsed": false
   },
   "outputs": [],
   "source": [
    "some_game = games[0]\n",
    "print(some_game)\n",
    "some_game"
   ]
  },
  {
   "cell_type": "markdown",
   "metadata": {},
   "source": [
    "Still not that useful until we `print` it. It seems the print triggers another representation than `__repr__`, which is used in IPython to display objects. We assign it to a variable, so we can interactively peek into it with IPython's tab completion. Note, that nflgame returns a lot of generators; To view them you have to iterate over in a `for`-loop or in a list comprehension or call `list()` or `next()` on 'em."
   ]
  },
  {
   "cell_type": "code",
   "execution_count": 0,
   "metadata": {
    "collapsed": false
   },
   "outputs": [],
   "source": [
    "some_game.loser"
   ]
  },
  {
   "cell_type": "markdown",
   "metadata": {},
   "source": [
    "Oh, poor 'TEN'."
   ]
  },
  {
   "cell_type": "code",
   "execution_count": 0,
   "metadata": {
    "collapsed": false
   },
   "outputs": [],
   "source": [
    "[print(d) for d in some_game.drives];"
   ]
  },
  {
   "cell_type": "markdown",
   "metadata": {},
   "source": [
    "So this are the drives. Actually a text representation based on some internal data. Not sure yet how to make something out of them. Any ideas anybody?"
   ]
  },
  {
   "cell_type": "code",
   "execution_count": 0,
   "metadata": {
    "collapsed": false
   },
   "outputs": [],
   "source": [
    "some_drive = list(some_game.drives)[3]"
   ]
  },
  {
   "cell_type": "code",
   "execution_count": 0,
   "metadata": {
    "collapsed": false
   },
   "outputs": [],
   "source": [
    "some_drive.total_yds"
   ]
  },
  {
   "cell_type": "markdown",
   "metadata": {},
   "source": [
    "A drive seems to consist of several `plays` and we have some interesting variables to access. The involved players are probably inside the `nflgame.game.Play` objects in the `plays` method."
   ]
  },
  {
   "cell_type": "code",
   "execution_count": 0,
   "metadata": {
    "collapsed": false,
    "scrolled": false
   },
   "outputs": [],
   "source": [
    "[ str(p) for p in some_drive.plays ]"
   ]
  },
  {
   "cell_type": "markdown",
   "metadata": {},
   "source": [
    "And these seem to be the players in that game:"
   ]
  },
  {
   "cell_type": "code",
   "execution_count": 0,
   "metadata": {
    "collapsed": false
   },
   "outputs": [],
   "source": [
    "str(some_game.players)"
   ]
  },
  {
   "cell_type": "code",
   "execution_count": 0,
   "metadata": {
    "collapsed": false
   },
   "outputs": [],
   "source": [
    "some_player = list(some_game.players)[0]\n",
    "str(some_player)"
   ]
  },
  {
   "cell_type": "code",
   "execution_count": 0,
   "metadata": {
    "collapsed": false
   },
   "outputs": [],
   "source": [
    "some_player.passer_rating()"
   ]
  },
  {
   "cell_type": "markdown",
   "metadata": {},
   "source": [
    "I wonder if we could use this value directly to correlate it to some other stats."
   ]
  },
  {
   "cell_type": "markdown",
   "metadata": {},
   "source": [
    "Perhaps we can use that rating, @wonbyte?"
   ]
  },
  {
   "cell_type": "code",
   "execution_count": 0,
   "metadata": {
    "collapsed": false
   },
   "outputs": [],
   "source": [
    "str(some_player.formatted_stats())"
   ]
  },
  {
   "cell_type": "markdown",
   "metadata": {},
   "source": [
    "From the player in a game (that is our \"some_player\" here, we can get the general object containing all the information available for this player in the `player` variable. For example his typical position:"
   ]
  },
  {
   "cell_type": "code",
   "execution_count": 0,
   "metadata": {
    "collapsed": false
   },
   "outputs": [],
   "source": [
    "some_player.team"
   ]
  },
  {
   "cell_type": "markdown",
   "metadata": {},
   "source": [
    "Look, here are the team stats. In case we want to correlate these agains individual players:"
   ]
  },
  {
   "cell_type": "code",
   "execution_count": 0,
   "metadata": {
    "collapsed": false
   },
   "outputs": [],
   "source": [
    "some_game.stats_home"
   ]
  },
  {
   "cell_type": "code",
   "execution_count": 0,
   "metadata": {
    "collapsed": false
   },
   "outputs": [],
   "source": [
    "some_game.home"
   ]
  },
  {
   "cell_type": "markdown",
   "metadata": {},
   "source": [
    "Getting all players of the \"home\" side:"
   ]
  },
  {
   "cell_type": "code",
   "execution_count": 0,
   "metadata": {
    "collapsed": false
   },
   "outputs": [],
   "source": [
    "[pl.name for pl in some_game.players if pl.team == some_game.home]"
   ]
  },
  {
   "cell_type": "code",
   "execution_count": 0,
   "metadata": {
    "collapsed": false
   },
   "outputs": [],
   "source": [
    "some_player.playerid"
   ]
  },
  {
   "cell_type": "markdown",
   "metadata": {},
   "source": [
    "Oh shit, that looks like a better way to get the stats out of a game than we did..."
   ]
  },
  {
   "cell_type": "code",
   "execution_count": 0,
   "metadata": {
    "collapsed": false
   },
   "outputs": [],
   "source": [
    "some_player.player.birthdate"
   ]
  },
  {
   "cell_type": "code",
   "execution_count": 0,
   "metadata": {
    "collapsed": false
   },
   "outputs": [],
   "source": [
    "some_player.player.years_pro"
   ]
  },
  {
   "cell_type": "code",
   "execution_count": 0,
   "metadata": {
    "collapsed": false
   },
   "outputs": [],
   "source": [
    "some_player.player.profile_url"
   ]
  },
  {
   "cell_type": "code",
   "execution_count": 0,
   "metadata": {
    "collapsed": false
   },
   "outputs": [],
   "source": [
    "some_player.player.name"
   ]
  },
  {
   "cell_type": "markdown",
   "metadata": {},
   "source": [
    "### Some helper functions"
   ]
  },
  {
   "cell_type": "markdown",
   "metadata": {},
   "source": [
    "Getting the player ids for a certain year that are in the stats (not all players are)."
   ]
  },
  {
   "cell_type": "code",
   "execution_count": 0,
   "metadata": {
    "collapsed": true
   },
   "outputs": [],
   "source": [
    "def active_players_in_year(year, kind=['REG', 'POST']):\n",
    "    \"\"\"Return the number of ids of active players in the given year.\n",
    "    \n",
    "    year: An int for the year of the season.\n",
    "    kind: A list with the kind of the game. Default ['REG', 'POST'].\n",
    "    \"\"\"\n",
    "    players = set()\n",
    "    for k in kind:\n",
    "        for game in nflgame.games(year, kind=k):\n",
    "            players.update(p.playerid for p in game.players)\n",
    "    return players"
   ]
  },
  {
   "cell_type": "markdown",
   "metadata": {},
   "source": [
    "Often handy to get the name of the player, when the system spits out an id."
   ]
  },
  {
   "cell_type": "code",
   "execution_count": 0,
   "metadata": {
    "collapsed": true
   },
   "outputs": [],
   "source": [
    "def lookup_player_name(player_id):\n",
    "    \"\"\"\n",
    "    Return the name (str) of a player, given his player_id (str).\n",
    "    \"\"\"\n",
    "    return nflgame.players[player_id].name"
   ]
  },
  {
   "cell_type": "code",
   "execution_count": 0,
   "metadata": {
    "collapsed": false
   },
   "outputs": [],
   "source": [
    "lookup_player_name(some_player.playerid)"
   ]
  },
  {
   "cell_type": "code",
   "execution_count": 0,
   "metadata": {
    "collapsed": true
   },
   "outputs": [],
   "source": [
    "def opposite_side(side):\n",
    "    return \"home\" if side==\"away\" else \"away\""
   ]
  },
  {
   "cell_type": "markdown",
   "metadata": {},
   "source": [
    "This function goes through all given games and looks for the keys in the differents stats that nflgame does provide. For example, a key in keys is `(\"passing\", \"yds\")` which means to look for the \"yds\" key in the \"passing\" category. If you can come up with a better/faster way to pull out the stats from nflgame please let us know (PRs welcome)."
   ]
  },
  {
   "cell_type": "code",
   "execution_count": 0,
   "metadata": {
    "collapsed": true
   },
   "outputs": [],
   "source": [
    "def collect_stats_for_keys(keys, games):\n",
    "    cats = {cat for cat, key in keys}\n",
    "    columns = ['site', 'date', 'week', 'team', 'op_team', 'season']\n",
    "    columns += [ cat+\"_\"+key for cat, key in keys]\n",
    "    tmp_list = []\n",
    "    tmp_index = []\n",
    "    for game in games:\n",
    "        playing = {}\n",
    "        for site in ['away', 'home']:\n",
    "            for cat in cats:\n",
    "                if cat not in game.data[site]['stats']:\n",
    "                    # a certain game may not have a specific category if nothing happend in that category.\n",
    "                    continue\n",
    "                stat = game.data[site]['stats'][cat]\n",
    "                for player_id in stat:\n",
    "                    if player_id not in playing:\n",
    "                        playing[player_id] = defaultdict(lambda: None)\n",
    "                    for key in [key for c, key in keys if c == cat]:\n",
    "                        if key in stat[player_id]:\n",
    "                            playing[player_id][cat+\"_\"+key] = stat[player_id][key]\n",
    "                    playing[player_id]['site'] = site\n",
    "                    playing[player_id]['date'] = pd.datetime(game.schedule['year'],\n",
    "                                                             game.schedule['month'],\n",
    "                                                             game.schedule['day'],\n",
    "                                                             int(game.schedule['time'].split(':')[0]))\n",
    "                    playing[player_id]['week'] = game.schedule['week']\n",
    "                    playing[player_id]['team'] = game.data[site]['abbr']\n",
    "                    playing[player_id]['op_team'] = game.data[opposite_side(site)]['abbr']\n",
    "                    playing[player_id]['season'] = game.season()\n",
    "        for player_id in playing:\n",
    "            tmp_index.append([player_id, game.eid])\n",
    "            tmp_list.append([playing[player_id][col] for col in columns])\n",
    "    return pd.DataFrame(tmp_list,\n",
    "                        index=pd.MultiIndex.from_tuples(tmp_index, names=('player_id', 'eid')),\n",
    "                        columns=columns)"
   ]
  },
  {
   "cell_type": "markdown",
   "metadata": {},
   "source": [
    "### Filling pandas DataFrames with data"
   ]
  },
  {
   "cell_type": "markdown",
   "metadata": {},
   "source": [
    "We need to define the `nflgame` keys (for the games) that are interesting to us in order to build up a DataFrame."
   ]
  },
  {
   "cell_type": "code",
   "execution_count": 0,
   "metadata": {
    "collapsed": true
   },
   "outputs": [],
   "source": [
    "offense_keys= [('receiving', 'tds'),\n",
    "               ('receiving', 'yds'),\n",
    "               ('receiving', 'rec'),\n",
    "               ('receiving', 'lng'),\n",
    "               ('receiving', 'twoptm'),\n",
    "               ('passing', 'yds'),\n",
    "               ('passing', 'tds'),\n",
    "               ('passing', 'att'),\n",
    "               ('passing', 'cmp'),\n",
    "               ('passing', 'ints'),\n",
    "               ('rushing', 'yds'),\n",
    "               ('rushing', 'tds'),\n",
    "               ('rushing', 'att'),\n",
    "               ('rushing', 'lng'),\n",
    "               ('fumbles', 'yds'),\n",
    "               ('fumbles', 'rcv'),\n",
    "               ('fumbles', 'tot'),\n",
    "               ('kickret', 'tds'),\n",
    "               ('kickret', 'avg'),\n",
    "               ('kickret', 'ret'),\n",
    "               ('kicking', 'fga'),\n",
    "               ('kicking', 'fgyds'),\n",
    "               ('kicking', 'xpb'),\n",
    "               ('kicking', 'xpmade'),\n",
    "               ('kicking', 'fgm'),\n",
    "               ('puntret', 'lng'),\n",
    "               ('puntret', 'ret'),\n",
    "               ('puntret', 'tds'),\n",
    "               ('puntret', 'avg')]"
   ]
  },
  {
   "cell_type": "code",
   "execution_count": 0,
   "metadata": {
    "collapsed": true
   },
   "outputs": [],
   "source": [
    "defense_keys=[('defense', 'ffum'),\n",
    "              ('defense', 'ast'),\n",
    "              ('defense', 'int'),\n",
    "              ('defense', 'sk'),\n",
    "              ('defense', 'tkl'),\n",
    "              ('punting', 'yds'),\n",
    "              ('punting', 'i20'),\n",
    "              ('punting', 'avg'),\n",
    "              ('punting', 'lng')]"
   ]
  },
  {
   "cell_type": "markdown",
   "metadata": {},
   "source": [
    "Let's have a big DataFrame (that is a table) with all games (we are interested in) and how all players performed in that games. When a player wasn't in a game, we denote that by `NaN` (that is `None`)."
   ]
  },
  {
   "cell_type": "code",
   "execution_count": 0,
   "metadata": {
    "collapsed": true
   },
   "outputs": [],
   "source": []
  }
 ],
 "metadata": {
  "kernelspec": {
   "display_name": "Python 3",
   "language": "python",
   "name": "python3"
  },
  "language_info": {
   "codemirror_mode": {
    "name": "ipython",
    "version": 3
   },
   "file_extension": ".py",
   "mimetype": "text/x-python",
   "name": "python",
   "nbconvert_exporter": "python",
   "pygments_lexer": "ipython3",
   "version": "3.4.3"
  }
 },
 "nbformat": 4,
 "nbformat_minor": 0
}