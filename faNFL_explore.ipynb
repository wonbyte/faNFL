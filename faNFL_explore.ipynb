{
 "cells": [
  {
   "cell_type": "markdown",
   "metadata": {},
   "source": [
    "# faNFL - Exploring the possibilities of predicting NFL player performance for Fantasy NFL"
   ]
  },
  {
   "cell_type": "markdown",
   "metadata": {},
   "source": [
    "This is supposed to be a readable [IPython](http://ipython.org/ipython-doc/dev/interactive/htmlnotebook.html) notebook that gently introduces the techniques, packages, and methods (oh, and pitfalls) as we approach the goal of predicting NFL player performances by trying out different ideas."
   ]
  },
  {
   "cell_type": "markdown",
   "metadata": {},
   "source": [
    "[Greg Sieranski](http://wonbyte.com) (1) and [Samuel John](http://samueljohn.de) (2)\n",
    "\n",
    "1.  Walmart, USA\n",
    "2.  HörSys GmbH, Hannover, Germany\n",
    "\n",
    "This is not an official project of neither Walmart nor HörSys, rather it represents our own views, though we are very happy that we got all support for doing this from our employers. We are glad for being supported to be able to present this at PyCon 2015 as [faNFL - Exploring the possibilities of predicting NFL player performance for Fantasy NFL](https://us.pycon.org/2015/schedule/presentation/433/). Thanks!\n",
    "\n",
    "#### Download and Contribute\n",
    "\n",
    "We started out [privately on BitBucket](https://bitbucket.org/samueljohn/fanfl) (now public!), but are just switching to GitHub at [github.com/wonbyte/fanfl](https://github.com/wonbyte/fanfl). The notebooks on bitbucket got too messy and we are cleaning up and documenting the suff right now at PyCon 2015 code sprints.\n",
    "\n",
    "We'd love to have this to be an open research style, collaborative, exploration on the matter of predicting NFL player performances. Maybe we all can learn a bit on from this.\n",
    "\n",
    "Please [open issues](https://github.com/wonbyte/fanfl/issues), ideas, todos, pull requests (bugs, improvements) on Github. We encourage to use the [wiki](https://github.com/wonbyte/fanfl/wiki) for new ideas and such and/or ping us on Twitter if you like it: [@samueljohn_de](https://twitter.com/samueljohn_de) and [@wonbyte](https://twitter.com/wonbyte)"
   ]
  },
  {
   "cell_type": "markdown",
   "metadata": {},
   "source": [
    "## Preface"
   ]
  },
  {
   "cell_type": "markdown",
   "metadata": {},
   "source": [
    "This IPython notebook documents our different approaches to tackle NFL player statistics. Instead of just presenting the final, polished end-result, we try to make this notebook to be an interesintg read with a lot of comments and discussion that tells the story of how we tried to do it. Exploring a data set is not a one-shot approach but more or less a trial and error approach with some necessary intuition, plotting, coming up with hypothesis, verifying them and some black magic of preparing the \"features\" for the machine learning. "
   ]
  },
  {
   "cell_type": "markdown",
   "metadata": {},
   "source": [
    "## Introduction"
   ]
  },
  {
   "cell_type": "markdown",
   "metadata": {},
   "source": [
    "How far can we get with statistical and machine learning tools of the Python eco system to tackle an interesting real world question: predicting the performance of individual NFL players based on historic data. In the rise (hype?) of “big-data”, how important are good models to train a predictor vs. just taking the brute-force approach of checking all correlations to perform the predictions?"
   ]
  },
  {
   "cell_type": "markdown",
   "metadata": {},
   "source": [
    "How good can one jumpstart to do interesting real world analysis and prediction with in the python eco system?\n",
    "\n",
    "How close can we get to yahoo’s predictions? Can we beat them with open source machine learning/statistics tools? (we have not yet bet them as the time of writing.)\n",
    "\n",
    "Fantasy Football is an online competition where users compete against one another as general managers for a virtual team. The players in the virtual team's performance is based on their real world performance. Each week, users are able to perform different actions, simulating professional football organization. Fantasy football has vastly increased in popularity, mainly because fantasy football providers such as ESPN, Yahoo! Fantasy Sports, and the NFL are able to keep track of statistics entirely online. The virtual teams are ranked by using the performance of the real world games, therefore predicting the real world performance of players is can lead to an advantage for the virtual general manager.\n",
    "\n",
    "Using our fork of NFLGame (we ported the library to Python 3) to directly get statistics from NFL Game Center, we are able to produce a big pandas panel data structure of historic performance of players. This data structure is much more convenient for explorative data analysis and further processing than REST (web) APIs. We started directly with Python 3.4 for this project and the libs and tools we use include IPython, numpy, scipy, pandas, seaborn/matplotlib, sklearn, requests and python-yahooapi.\n",
    "\n",
    "From simple counting over correlation analysis to building models as a basis for statistical evaluation and machine learning tools (provided by sklearn), we are addressing our main question: How important are carefully hand-crafted performance models for the different learning algorithms vs. how far can we get by \"counting numbers\"?"
   ]
  },
  {
   "cell_type": "markdown",
   "metadata": {},
   "source": [
    "## Setup"
   ]
  },
  {
   "cell_type": "markdown",
   "metadata": {},
   "source": [
    "## Loading Data"
   ]
  },
  {
   "cell_type": "markdown",
   "metadata": {},
   "source": [
    "## Filling pandas DataFrames with data"
   ]
  },
  {
   "cell_type": "code",
   "execution_count": 0,
   "metadata": {
    "collapsed": false
   },
   "outputs": [],
   "source": [
    "1+2+3"
   ]
  },
  {
   "cell_type": "code",
   "execution_count": 0,
   "metadata": {
    "collapsed": false
   },
   "outputs": [],
   "source": [
    "print('foo')"
   ]
  },
  {
   "cell_type": "code",
   "execution_count": 0,
   "metadata": {
    "collapsed": true
   },
   "outputs": [],
   "source": []
  }
 ],
 "metadata": {
  "kernelspec": {
   "display_name": "Python 3",
   "language": "python",
   "name": "python3"
  },
  "language_info": {
   "codemirror_mode": {
    "name": "ipython",
    "version": 3
   },
   "file_extension": ".py",
   "mimetype": "text/x-python",
   "name": "python",
   "nbconvert_exporter": "python",
   "pygments_lexer": "ipython3",
   "version": "3.4.3"
  }
 },
 "nbformat": 4,
 "nbformat_minor": 0
}